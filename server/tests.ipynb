{
 "cells": [
  {
   "cell_type": "markdown",
   "metadata": {},
   "source": [
    "# Tests for the server"
   ]
  },
  {
   "cell_type": "markdown",
   "metadata": {},
   "source": [
    "I'm using very popular httpx as the client to test the server\n",
    "it's a good measure to test the server, to see if the server is up to the standard of HTTP protocol"
   ]
  },
  {
   "cell_type": "code",
   "execution_count": 8,
   "metadata": {},
   "outputs": [],
   "source": [
    "# %pip install httpx\n",
    "# %pip install \"glow-cli\"\n",
    "# %pip install pandas\n",
    "# %pip install matplotlib"
   ]
  },
  {
   "cell_type": "code",
   "execution_count": 26,
   "metadata": {},
   "outputs": [],
   "source": [
    "from tcp_server import Request, Response\n",
    "import socket\n",
    "from json import dumps\n",
    "from matplotlib import pyplot as plt\n",
    "\n",
    "import httpx\n",
    "\n",
    "from glow.colors import cprint\n",
    "\n",
    "import concurrent.futures\n",
    "from typing import Optional\n",
    "from datetime import datetime\n",
    "import pandas as pd\n",
    "\n",
    "PROTOCOL = \"https\"\n",
    "PORT = 8000\n",
    "HOST = \"localhost\"\n",
    "\n",
    "test_socket = socket.socket(socket.AF_INET, socket.SOCK_STREAM)\n"
   ]
  },
  {
   "cell_type": "code",
   "execution_count": 13,
   "metadata": {},
   "outputs": [],
   "source": [
    "STATUS_CODES = {\n",
    "    200: \"OK (the request was SUCCESSFUL)\",\n",
    "    302: \"Found (REDIRECT to a different URL)\",\n",
    "    401: \"Unauthorized (the user is NOT authorized)\",\n",
    "    404: \"Not Found (the resource was NOT found)\",\n",
    "    405: \"Method Not Allowed (the method is NOT allowed for the requested resource)\",\n",
    "    500: \"Internal Server Error (the server encountered an ERROR while processing the request)\",\n",
    "}\n"
   ]
  },
  {
   "cell_type": "code",
   "execution_count": 10,
   "metadata": {},
   "outputs": [],
   "source": [
    "def response_to_raw(response: httpx.Response) -> str:\n",
    "    \"\"\"\n",
    "    Return in the format of HTTP response\n",
    "    Print as much detail from other network layers as possible\n",
    "    \"\"\"\n",
    "    # Build the raw HTTP response string\n",
    "    raw_response = f\"HTTP/{response.http_version} {response.status_code} {response.reason_phrase}\\r\\n\"\n",
    "\n",
    "    for name, value in response.headers.items():\n",
    "        raw_response += f\"{name}: {value}\\r\\n\"\n",
    "    raw_response += \"\\r\\n\"\n",
    "    raw_response += response.text\n",
    "\n",
    "    return raw_response"
   ]
  },
  {
   "cell_type": "code",
   "execution_count": 68,
   "metadata": {},
   "outputs": [],
   "source": [
    "def client_core(method, path, headers=None, json=None, with_cert=True):\n",
    "    \"\"\"\n",
    "    Core function for the client\n",
    "    \"\"\"\n",
    "    with httpx.Client(verify=False, cert=(\"cert.pem\", \"key.pem\") if with_cert else None) as client:\n",
    "        url = f\"{PROTOCOL}://{HOST}:{PORT}{path}\"\n",
    "        response = client.request(method, url, headers=headers, json=json)\n",
    "    return response"
   ]
  },
  {
   "cell_type": "code",
   "execution_count": 69,
   "metadata": {},
   "outputs": [],
   "source": [
    "def test_endpoint(path, method, headers=None, json=None, with_cert=True):\n",
    "    \"\"\"\n",
    "    Print the request and response in a readable format\n",
    "    \"\"\"\n",
    "    cprint(\"================ REQUEST ================\", \"header\")\n",
    "    cprint(f\"[{method}] '{path}'\", \"header\")\n",
    "    if headers is not None:\n",
    "        for key, value in headers.items():\n",
    "            cprint(f\"{key}: {value}\", \"header\")\n",
    "\n",
    "    if json is not None:\n",
    "        print()\n",
    "        cprint(\"BODY DATA\", \"header\")\n",
    "        cprint(dumps(json, indent=4), \"header\")\n",
    "\n",
    "    response = client_core(method, path, headers, json, with_cert)\n",
    "\n",
    "    cprint(\"================ RESPONSE ================\", \"green\")\n",
    "    cprint(f\"STATUS: {response.status_code}: {STATUS_CODES[response.status_code]}\", \"green\")\n",
    "    cprint(\"\\nRAW RESPONSE:\", \"green\")\n",
    "    cprint(response_to_raw(response), \"green\")\n",
    "    print()\n",
    "    return response\n"
   ]
  },
  {
   "cell_type": "markdown",
   "metadata": {},
   "source": [
    "## Different useful headers"
   ]
  },
  {
   "cell_type": "code",
   "execution_count": 14,
   "metadata": {},
   "outputs": [],
   "source": [
    "\n",
    "USUAL_HEADERS = {\n",
    "    \"Host\": \"localhost:8000\",\n",
    "    \"Connection\": \"keep-alive\",\n",
    "    \"sec-ch-ua\": '\"Not;A=Brand\";v=\"24\", \"Chromium\";v=\"128\"',\n",
    "    \"sec-ch-ua-mobile\": \"?0\",\n",
    "    \"sec-ch-ua-platform\": '\"macOS\"',\n",
    "    \"Upgrade-Insecure-Requests\": \"1\",\n",
    "    \"DNT\": \"1\",\n",
    "    \"User-Agent\": \"Mozilla/5.0 (Macintosh; Intel Mac OS X 10_15_7) AppleWebKit/537.36 (KHTML, like Gecko) Chrome/128.0.0.0 Safari/537.36\",\n",
    "    \"Accept\": \"text/html,application/xhtml+xml,application/xml;q=0.9,image/avif,image/webp,image/apng,*/*;q=0.8,application/signed-exchange;v=b3;q=0.7\",\n",
    "    \"Sec-Fetch-Site\": \"cross-site\",\n",
    "    \"Sec-Fetch-Mode\": \"navigate\",\n",
    "    \"Sec-Fetch-User\": \"?1\",\n",
    "    \"Sec-Fetch-Dest\": \"document\",\n",
    "    \"Accept-Encoding\": \"gzip, deflate, br, zstd\",\n",
    "    \"Accept-Language\": \"en-US,en;q=0.9\",\n",
    "}\n",
    "\n",
    "LOGOUT_HEADER = dict(\n",
    "    **USUAL_HEADERS,\n",
    "    Cookie=\"_xsrf=2|e8ec40bb|be67f97ce63626c0817f331d876587e5|1719595733; session=eyJ1c2VyIjogeyJzdWIiOiAiMTEyMjA4MjUzNzk3MTM1ODU1NDY4IiwgIm5hbWUiOiAiWGlhb2NoZW4gWmhhbmciLCAiZ2l2ZW5fbmFtZSI6ICJYaWFvY2hlbiIsICJmYW1pbHlfbmFtZSI6ICJaaGFuZyIsICJwaWN0dXJlIjogImh0dHBzOi8vbGgzLmdvb2dsZXVzZXJjb250ZW50LmNvbS9hL0FDZzhvY0xPa2FaTFlFZlAtY2pjN1JTMnVQQU9vYURUc2k5Q0xpNmZLME9fNGJFWnU3bFRCMzQ9czk2LWMiLCAiZW1haWwiOiAieHozODdAbmF1LmVkdSIsICJlbWFpbF92ZXJpZmllZCI6IHRydWUsICJoZCI6ICJuYXUuZWR1IiwgInRva2VuIjogImV5SjFjMlZ5SWpvZ2V5SnpkV0lpIn0sICJfc3RhdGVfZ29vZ2xlXzVtTmRuT0VKWG0ycm1OSmlxcmJ4ZzM2ak1OMWtmNCI6IHsiZGF0YSI6IHsicmVkaXJlY3RfdXJpIjogImh0dHBzOi8vbG9jYWxob3N0OjgwMDAvYXV0aD9leHRlbnNpb25faWQ9Z2JjbWJvcHBiYmZqaGRwbGltam5kbmtoYmplb2xiamkiLCAibm9uY2UiOiAiMTBvMXFtdFZaY1d3YVFqU0hhUVgiLCAidXJsIjogImh0dHBzOi8vYWNjb3VudHMuZ29vZ2xlLmNvbS9vL29hdXRoMi92Mi9hdXRoP3Jlc3BvbnNlX3R5cGU9Y29kZSZjbGllbnRfaWQ9MjIwNDU4OTY2MjQ0LWxvbzdwajdxMmRpYnU0dTBmYmdwczZxbTg0NjZpZG9tLmFwcHMuZ29vZ2xldXNlcmNvbnRlbnQuY29tJnJlZGlyZWN0X3VyaT1odHRwcyUzQSUyRiUyRmxvY2FsaG9zdCUzQTgwMDAlMkZhdXRoJTNGZXh0ZW5zaW9uX2lkJTNEZ2JjbWJvcHBiYmZqaGRwbGltam5kbmtoYmplb2xiamkmc2NvcGU9b3BlbmlkK2VtYWlsK3Byb2ZpbGUmc3RhdGU9NW1OZG5PRUpYbTJybU5KaXFyYnhnMzZqTU4xa2Y0Jm5vbmNlPTEwbzFxbXRWWmNXd2FRalNIYVFYIn0sICJleHAiOiAxNzMzNDU4NTE2LjQ0NjE4NDl9fQ==.0ad325a3a8a407a804919af7bffe35d3fdb9816f06ee376d110cedde1effb7ad\",\n",
    ")\n",
    "\n",
    "LOGIN_HEADER = dict(\n",
    "    **USUAL_HEADERS,\n",
    "    Cookie=\"_xsrf=2|e8ec40bb|be67f97ce63626c0817f331d876587e5|1719595733; session=\",\n",
    ")\n",
    "\n",
    "AUTH_HEADER = dict(\n",
    "    **USUAL_HEADERS,\n",
    "    Cookie=\"_xsrf=2|e8ec40bb|be67f97ce63626c0817f331d876587e5|1719595733; session=eyJ1c2VyIjogeyJzdWIiOiAiMTEyMjA4MjUzNzk3MTM1ODU1NDY4IiwgIm5hbWUiOiAiWGlhb2NoZW4gWmhhbmciLCAiZ2l2ZW5fbmFtZSI6ICJYaWFvY2hlbiIsICJmYW1pbHlfbmFtZSI6ICJaaGFuZyIsICJwaWN0dXJlIjogImh0dHBzOi8vbGgzLmdvb2dsZXVzZXJjb250ZW50LmNvbS9hL0FDZzhvY0xPa2FaTFlFZlAtY2pjN1JTMnVQQU9vYURUc2k5Q0xpNmZLME9fNGJFWnU3bFRCMzQ9czk2LWMiLCAiZW1haWwiOiAieHozODdAbmF1LmVkdSIsICJlbWFpbF92ZXJpZmllZCI6IHRydWUsICJoZCI6ICJuYXUuZWR1In19.101086856aac8d049f71f21941f0f0bb7b78aa5415bde84cb93f3de339cdb378\",\n",
    ")\n",
    "\n",
    "AUTH_LINK = \"/auth?extension_id=gbcmboppbbfjhdplimjndnkhbjeolbji&state=51gZK0gvP8cvhjuO0m2nty3nkSIUy9&code=4%2F0AeanS0bvEfVN5JHHzmCFxCjoW05Msq5TwNRFBoka-tIbxoCa27ebMDw53PZf9YyD8yDaAw&scope=email+profile+openid+https%3A%2F%2Fwww.googleapis.com%2Fauth%2Fuserinfo.profile+https%3A%2F%2Fwww.googleapis.com%2Fauth%2Fuserinfo.email&authuser=0&hd=nau.edu&prompt=consent\"\n",
    "\n",
    "AUTHORIZED_HEADER = dict(\n",
    "    **USUAL_HEADERS,\n",
    "    Cookie=\"_xsrf=2|e8ec40bb|be67f97ce63626c0817f331d876587e5|1719595733; session=eyJ1c2VyIjogeyJzdWIiOiAiMTEyMjA4MjUzNzk3MTM1ODU1NDY4IiwgIm5hbWUiOiAiWGlhb2NoZW4gWmhhbmciLCAiZ2l2ZW5fbmFtZSI6ICJYaWFvY2hlbiIsICJmYW1pbHlfbmFtZSI6ICJaaGFuZyIsICJwaWN0dXJlIjogImh0dHBzOi8vbGgzLmdvb2dsZXVzZXJjb250ZW50LmNvbS9hL0FDZzhvY0xPa2FaTFlFZlAtY2pjN1JTMnVQQU9vYURUc2k5Q0xpNmZLME9fNGJFWnU3bFRCMzQ9czk2LWMiLCAiZW1haWwiOiAieHozODdAbmF1LmVkdSIsICJlbWFpbF92ZXJpZmllZCI6IHRydWUsICJoZCI6ICJuYXUuZWR1In19.101086856aac8d049f71f21941f0f0bb7b78aa5415bde84cb93f3de339cdb378\",\n",
    ")\n",
    "\n",
    "WRONG_TOKEN_HEADER = dict(\n",
    "    **USUAL_HEADERS,\n",
    "    Cookie=\"_xsrf=2|e8ec40bb|be67f97ce63626c0817f331d876587e5|1719595733; session=lifeIsLikeaBoxOfChocolates\",\n",
    ")"
   ]
  },
  {
   "cell_type": "markdown",
   "metadata": {},
   "source": [
    "## Test endpoints\n",
    "\n",
    "Please make sure `python app.py --log_level=DEBUG` is running"
   ]
  },
  {
   "cell_type": "markdown",
   "metadata": {},
   "source": [
    "### Unprotected endpoints\n",
    "> What to test?\n",
    "* Usual GET request\n",
    "* Status code\n",
    "* JSON response body\n"
   ]
  },
  {
   "cell_type": "code",
   "execution_count": 17,
   "metadata": {},
   "outputs": [
    {
     "name": "stdout",
     "output_type": "stream",
     "text": [
      "\u001b[95m================ REQUEST ================\u001b[0m\n",
      "\u001b[95m[GET] '/naked'\u001b[0m\n",
      "\u001b[92m================ RESPONSE ================\u001b[0m\n",
      "\u001b[92mSTATUS: 200: OK (the request was SUCCESSFUL)\u001b[0m\n",
      "\u001b[92m\n",
      "RAW RESPONSE:\u001b[0m\n",
      "\u001b[92mHTTP/HTTP/1.1 200 OK\n",
      "content-type: application/json\n",
      "date: Thu, 05 Dec 2024 22:51:42 GMT\n",
      "set-cookie: session=\n",
      "\n",
      "{\"message\": \"This is a naked endpoint, not protected by auth\"}\u001b[0m\n",
      "\n"
     ]
    }
   ],
   "source": [
    "response = test_endpoint(\"/naked\", \"GET\")\n",
    "assert response.status_code == 200\n",
    "assert len(response.json()) == 1"
   ]
  },
  {
   "cell_type": "markdown",
   "metadata": {},
   "source": [
    "### Logout\n",
    "> What to test?\n",
    "* Session management\n",
    "* Redirect response/ Status code.\n"
   ]
  },
  {
   "cell_type": "code",
   "execution_count": 18,
   "metadata": {},
   "outputs": [
    {
     "name": "stdout",
     "output_type": "stream",
     "text": [
      "\u001b[95m================ REQUEST ================\u001b[0m\n",
      "\u001b[95m[GET] '/logout'\u001b[0m\n",
      "\u001b[95mHost: localhost:8000\u001b[0m\n",
      "\u001b[95mConnection: keep-alive\u001b[0m\n",
      "\u001b[95msec-ch-ua: \"Not;A=Brand\";v=\"24\", \"Chromium\";v=\"128\"\u001b[0m\n",
      "\u001b[95msec-ch-ua-mobile: ?0\u001b[0m\n",
      "\u001b[95msec-ch-ua-platform: \"macOS\"\u001b[0m\n",
      "\u001b[95mUpgrade-Insecure-Requests: 1\u001b[0m\n",
      "\u001b[95mDNT: 1\u001b[0m\n",
      "\u001b[95mUser-Agent: Mozilla/5.0 (Macintosh; Intel Mac OS X 10_15_7) AppleWebKit/537.36 (KHTML, like Gecko) Chrome/128.0.0.0 Safari/537.36\u001b[0m\n",
      "\u001b[95mAccept: text/html,application/xhtml+xml,application/xml;q=0.9,image/avif,image/webp,image/apng,*/*;q=0.8,application/signed-exchange;v=b3;q=0.7\u001b[0m\n",
      "\u001b[95mSec-Fetch-Site: cross-site\u001b[0m\n",
      "\u001b[95mSec-Fetch-Mode: navigate\u001b[0m\n",
      "\u001b[95mSec-Fetch-User: ?1\u001b[0m\n",
      "\u001b[95mSec-Fetch-Dest: document\u001b[0m\n",
      "\u001b[95mAccept-Encoding: gzip, deflate, br, zstd\u001b[0m\n",
      "\u001b[95mAccept-Language: en-US,en;q=0.9\u001b[0m\n",
      "\u001b[95mCookie: _xsrf=2|e8ec40bb|be67f97ce63626c0817f331d876587e5|1719595733; session=eyJ1c2VyIjogeyJzdWIiOiAiMTEyMjA4MjUzNzk3MTM1ODU1NDY4IiwgIm5hbWUiOiAiWGlhb2NoZW4gWmhhbmciLCAiZ2l2ZW5fbmFtZSI6ICJYaWFvY2hlbiIsICJmYW1pbHlfbmFtZSI6ICJaaGFuZyIsICJwaWN0dXJlIjogImh0dHBzOi8vbGgzLmdvb2dsZXVzZXJjb250ZW50LmNvbS9hL0FDZzhvY0xPa2FaTFlFZlAtY2pjN1JTMnVQQU9vYURUc2k5Q0xpNmZLME9fNGJFWnU3bFRCMzQ9czk2LWMiLCAiZW1haWwiOiAieHozODdAbmF1LmVkdSIsICJlbWFpbF92ZXJpZmllZCI6IHRydWUsICJoZCI6ICJuYXUuZWR1IiwgInRva2VuIjogImV5SjFjMlZ5SWpvZ2V5SnpkV0lpIn0sICJfc3RhdGVfZ29vZ2xlXzVtTmRuT0VKWG0ycm1OSmlxcmJ4ZzM2ak1OMWtmNCI6IHsiZGF0YSI6IHsicmVkaXJlY3RfdXJpIjogImh0dHBzOi8vbG9jYWxob3N0OjgwMDAvYXV0aD9leHRlbnNpb25faWQ9Z2JjbWJvcHBiYmZqaGRwbGltam5kbmtoYmplb2xiamkiLCAibm9uY2UiOiAiMTBvMXFtdFZaY1d3YVFqU0hhUVgiLCAidXJsIjogImh0dHBzOi8vYWNjb3VudHMuZ29vZ2xlLmNvbS9vL29hdXRoMi92Mi9hdXRoP3Jlc3BvbnNlX3R5cGU9Y29kZSZjbGllbnRfaWQ9MjIwNDU4OTY2MjQ0LWxvbzdwajdxMmRpYnU0dTBmYmdwczZxbTg0NjZpZG9tLmFwcHMuZ29vZ2xldXNlcmNvbnRlbnQuY29tJnJlZGlyZWN0X3VyaT1odHRwcyUzQSUyRiUyRmxvY2FsaG9zdCUzQTgwMDAlMkZhdXRoJTNGZXh0ZW5zaW9uX2lkJTNEZ2JjbWJvcHBiYmZqaGRwbGltam5kbmtoYmplb2xiamkmc2NvcGU9b3BlbmlkK2VtYWlsK3Byb2ZpbGUmc3RhdGU9NW1OZG5PRUpYbTJybU5KaXFyYnhnMzZqTU4xa2Y0Jm5vbmNlPTEwbzFxbXRWWmNXd2FRalNIYVFYIn0sICJleHAiOiAxNzMzNDU4NTE2LjQ0NjE4NDl9fQ==.0ad325a3a8a407a804919af7bffe35d3fdb9816f06ee376d110cedde1effb7ad\u001b[0m\n",
      "\u001b[92m================ RESPONSE ================\u001b[0m\n",
      "\u001b[92mSTATUS: 302: Found (REDIRECT to a different URL)\u001b[0m\n",
      "\u001b[92m\n",
      "RAW RESPONSE:\u001b[0m\n",
      "\u001b[92mHTTP/HTTP/1.1 302 \n",
      "content-type: text/html\n",
      "date: Thu, 05 Dec 2024 22:53:43 GMT\n",
      "location: https://localhost:8000/login\n",
      "set-cookie: session=\n",
      "\n",
      "\u001b[0m\n",
      "\n"
     ]
    }
   ],
   "source": [
    "response = test_endpoint(\"/logout\", \"GET\", headers=LOGOUT_HEADER)\n",
    "assert response.status_code == 302"
   ]
  },
  {
   "cell_type": "markdown",
   "metadata": {},
   "source": [
    "### Unauthorized endpoints\n",
    "> What to test?\n",
    "* Session management\n",
    "* Status code\n",
    "* JWT guarding the path\n",
    "* JSON response body\n"
   ]
  },
  {
   "cell_type": "code",
   "execution_count": 20,
   "metadata": {},
   "outputs": [
    {
     "name": "stdout",
     "output_type": "stream",
     "text": [
      "\u001b[95m================ REQUEST ================\u001b[0m\n",
      "\u001b[95m[GET] '/my_profile'\u001b[0m\n",
      "\u001b[92m================ RESPONSE ================\u001b[0m\n",
      "\u001b[92mSTATUS: 401: Unauthorized (the user is NOT authorized)\u001b[0m\n",
      "\u001b[92m\n",
      "RAW RESPONSE:\u001b[0m\n",
      "\u001b[92mHTTP/HTTP/1.1 401 \n",
      "content-type: application/json\n",
      "date: Thu, 05 Dec 2024 22:54:50 GMT\n",
      "set-cookie: session=\n",
      "\n",
      "{\"error\": \"Unauthorized\"}\u001b[0m\n",
      "\n"
     ]
    }
   ],
   "source": [
    "response = test_endpoint(\"/my_profile\", \"GET\")\n",
    "assert response.status_code == 401"
   ]
  },
  {
   "cell_type": "markdown",
   "metadata": {},
   "source": [
    "### Login\n",
    "> What to test?\n",
    "* Session management (set the cookie)\n",
    "* Redirect response/ Status code.\n",
    "* JWT working with google oauth"
   ]
  },
  {
   "cell_type": "code",
   "execution_count": 21,
   "metadata": {},
   "outputs": [
    {
     "name": "stdout",
     "output_type": "stream",
     "text": [
      "\u001b[95m================ REQUEST ================\u001b[0m\n",
      "\u001b[95m[GET] '/login?extension_id=gbcmboppbbfjhdplimjndnkhbjeolbji'\u001b[0m\n",
      "\u001b[95mHost: localhost:8000\u001b[0m\n",
      "\u001b[95mConnection: keep-alive\u001b[0m\n",
      "\u001b[95msec-ch-ua: \"Not;A=Brand\";v=\"24\", \"Chromium\";v=\"128\"\u001b[0m\n",
      "\u001b[95msec-ch-ua-mobile: ?0\u001b[0m\n",
      "\u001b[95msec-ch-ua-platform: \"macOS\"\u001b[0m\n",
      "\u001b[95mUpgrade-Insecure-Requests: 1\u001b[0m\n",
      "\u001b[95mDNT: 1\u001b[0m\n",
      "\u001b[95mUser-Agent: Mozilla/5.0 (Macintosh; Intel Mac OS X 10_15_7) AppleWebKit/537.36 (KHTML, like Gecko) Chrome/128.0.0.0 Safari/537.36\u001b[0m\n",
      "\u001b[95mAccept: text/html,application/xhtml+xml,application/xml;q=0.9,image/avif,image/webp,image/apng,*/*;q=0.8,application/signed-exchange;v=b3;q=0.7\u001b[0m\n",
      "\u001b[95mSec-Fetch-Site: cross-site\u001b[0m\n",
      "\u001b[95mSec-Fetch-Mode: navigate\u001b[0m\n",
      "\u001b[95mSec-Fetch-User: ?1\u001b[0m\n",
      "\u001b[95mSec-Fetch-Dest: document\u001b[0m\n",
      "\u001b[95mAccept-Encoding: gzip, deflate, br, zstd\u001b[0m\n",
      "\u001b[95mAccept-Language: en-US,en;q=0.9\u001b[0m\n",
      "\u001b[95mCookie: _xsrf=2|e8ec40bb|be67f97ce63626c0817f331d876587e5|1719595733; session=\u001b[0m\n",
      "\u001b[92m================ RESPONSE ================\u001b[0m\n",
      "\u001b[92mSTATUS: 302: Found (REDIRECT to a different URL)\u001b[0m\n",
      "\u001b[92m\n",
      "RAW RESPONSE:\u001b[0m\n",
      "\u001b[92mHTTP/HTTP/1.1 302 \n",
      "content-type: text/html\n",
      "date: Thu, 05 Dec 2024 22:55:32 GMT\n",
      "location: https://accounts.google.com/o/oauth2/v2/auth?response_type=code&client_id=220458966244-loo7pj7q2dibu4u0fbgps6qm8466idom.apps.googleusercontent.com&redirect_uri=https%3A%2F%2Flocalhost%3A8000%2Fauth%3Fextension_id%3Dgbcmboppbbfjhdplimjndnkhbjeolbji&scope=openid+email+profile&state=9XvPO9kHCtIjXLGNG11hN7bKiayxiV&nonce=7g35woUCWt6nkYyjXyKD\n",
      "set-cookie: session=eyJfc3RhdGVfZ29vZ2xlXzlYdlBPOWtIQ3RJalhMR05HMTFoTjdiS2lheXhpViI6IHsiZGF0YSI6IHsicmVkaXJlY3RfdXJpIjogImh0dHBzOi8vbG9jYWxob3N0OjgwMDAvYXV0aD9leHRlbnNpb25faWQ9Z2JjbWJvcHBiYmZqaGRwbGltam5kbmtoYmplb2xiamkiLCAibm9uY2UiOiAiN2czNXdvVUNXdDZua1l5alh5S0QiLCAidXJsIjogImh0dHBzOi8vYWNjb3VudHMuZ29vZ2xlLmNvbS9vL29hdXRoMi92Mi9hdXRoP3Jlc3BvbnNlX3R5cGU9Y29kZSZjbGllbnRfaWQ9MjIwNDU4OTY2MjQ0LWxvbzdwajdxMmRpYnU0dTBmYmdwczZxbTg0NjZpZG9tLmFwcHMuZ29vZ2xldXNlcmNvbnRlbnQuY29tJnJlZGlyZWN0X3VyaT1odHRwcyUzQSUyRiUyRmxvY2FsaG9zdCUzQTgwMDAlMkZhdXRoJTNGZXh0ZW5zaW9uX2lkJTNEZ2JjbWJvcHBiYmZqaGRwbGltam5kbmtoYmplb2xiamkmc2NvcGU9b3BlbmlkK2VtYWlsK3Byb2ZpbGUmc3RhdGU9OVh2UE85a0hDdElqWExHTkcxMWhON2JLaWF5eGlWJm5vbmNlPTdnMzV3b1VDV3Q2bmtZeWpYeUtEIn0sICJleHAiOiAxNzMzNDcxNzMyLjg2MjYxOX19.97115811778477f0e3a126dd55d710465c025395ef7d3e55248183ef399c44ce\n",
      "\n",
      "\u001b[0m\n",
      "\n"
     ]
    }
   ],
   "source": [
    "response = test_endpoint(\"/login?extension_id=gbcmboppbbfjhdplimjndnkhbjeolbji\", \"GET\", headers=LOGIN_HEADER)\n",
    "assert response.status_code == 302"
   ]
  },
  {
   "cell_type": "markdown",
   "metadata": {},
   "source": [
    "### Authorized endpoints\n",
    "> What to test?\n",
    "* Session management \n",
    "    * JWT is valid when visiting the same path\n",
    "    * A success authorized response will contain the set-cookie header\n",
    "* JWT decryption, recover user information (return json data is extracted from the token)\n",
    "* JSON response body\n"
   ]
  },
  {
   "cell_type": "code",
   "execution_count": 22,
   "metadata": {},
   "outputs": [
    {
     "name": "stdout",
     "output_type": "stream",
     "text": [
      "\u001b[95m================ REQUEST ================\u001b[0m\n",
      "\u001b[95m[GET] '/my_profile'\u001b[0m\n",
      "\u001b[95mHost: localhost:8000\u001b[0m\n",
      "\u001b[95mConnection: keep-alive\u001b[0m\n",
      "\u001b[95msec-ch-ua: \"Not;A=Brand\";v=\"24\", \"Chromium\";v=\"128\"\u001b[0m\n",
      "\u001b[95msec-ch-ua-mobile: ?0\u001b[0m\n",
      "\u001b[95msec-ch-ua-platform: \"macOS\"\u001b[0m\n",
      "\u001b[95mUpgrade-Insecure-Requests: 1\u001b[0m\n",
      "\u001b[95mDNT: 1\u001b[0m\n",
      "\u001b[95mUser-Agent: Mozilla/5.0 (Macintosh; Intel Mac OS X 10_15_7) AppleWebKit/537.36 (KHTML, like Gecko) Chrome/128.0.0.0 Safari/537.36\u001b[0m\n",
      "\u001b[95mAccept: text/html,application/xhtml+xml,application/xml;q=0.9,image/avif,image/webp,image/apng,*/*;q=0.8,application/signed-exchange;v=b3;q=0.7\u001b[0m\n",
      "\u001b[95mSec-Fetch-Site: cross-site\u001b[0m\n",
      "\u001b[95mSec-Fetch-Mode: navigate\u001b[0m\n",
      "\u001b[95mSec-Fetch-User: ?1\u001b[0m\n",
      "\u001b[95mSec-Fetch-Dest: document\u001b[0m\n",
      "\u001b[95mAccept-Encoding: gzip, deflate, br, zstd\u001b[0m\n",
      "\u001b[95mAccept-Language: en-US,en;q=0.9\u001b[0m\n",
      "\u001b[95mCookie: _xsrf=2|e8ec40bb|be67f97ce63626c0817f331d876587e5|1719595733; session=eyJ1c2VyIjogeyJzdWIiOiAiMTEyMjA4MjUzNzk3MTM1ODU1NDY4IiwgIm5hbWUiOiAiWGlhb2NoZW4gWmhhbmciLCAiZ2l2ZW5fbmFtZSI6ICJYaWFvY2hlbiIsICJmYW1pbHlfbmFtZSI6ICJaaGFuZyIsICJwaWN0dXJlIjogImh0dHBzOi8vbGgzLmdvb2dsZXVzZXJjb250ZW50LmNvbS9hL0FDZzhvY0xPa2FaTFlFZlAtY2pjN1JTMnVQQU9vYURUc2k5Q0xpNmZLME9fNGJFWnU3bFRCMzQ9czk2LWMiLCAiZW1haWwiOiAieHozODdAbmF1LmVkdSIsICJlbWFpbF92ZXJpZmllZCI6IHRydWUsICJoZCI6ICJuYXUuZWR1In19.101086856aac8d049f71f21941f0f0bb7b78aa5415bde84cb93f3de339cdb378\u001b[0m\n",
      "\u001b[92m================ RESPONSE ================\u001b[0m\n",
      "\u001b[92mSTATUS: 200: OK (the request was SUCCESSFUL)\u001b[0m\n",
      "\u001b[92m\n",
      "RAW RESPONSE:\u001b[0m\n",
      "\u001b[92mHTTP/HTTP/1.1 200 OK\n",
      "content-type: application/json\n",
      "date: Thu, 05 Dec 2024 22:57:14 GMT\n",
      "set-cookie: session=eyJ1c2VyIjogeyJzdWIiOiAiMTEyMjA4MjUzNzk3MTM1ODU1NDY4IiwgIm5hbWUiOiAiWGlhb2NoZW4gWmhhbmciLCAiZ2l2ZW5fbmFtZSI6ICJYaWFvY2hlbiIsICJmYW1pbHlfbmFtZSI6ICJaaGFuZyIsICJwaWN0dXJlIjogImh0dHBzOi8vbGgzLmdvb2dsZXVzZXJjb250ZW50LmNvbS9hL0FDZzhvY0xPa2FaTFlFZlAtY2pjN1JTMnVQQU9vYURUc2k5Q0xpNmZLME9fNGJFWnU3bFRCMzQ9czk2LWMiLCAiZW1haWwiOiAieHozODdAbmF1LmVkdSIsICJlbWFpbF92ZXJpZmllZCI6IHRydWUsICJoZCI6ICJuYXUuZWR1IiwgInRva2VuIjogImV5SjFjMlZ5SWpvZ2V5SnpkV0lpIn19.ab8fcd36072b7218726cf1c90b4d2947f84ee0074d4936723ef7a07e58977664\n",
      "\n",
      "{\"sub\": \"112208253797135855468\", \"name\": \"Xiaochen Zhang\", \"given_name\": \"Xiaochen\", \"family_name\": \"Zhang\", \"picture\": \"https://lh3.googleusercontent.com/a/ACg8ocLOkaZLYEfP-cjc7RS2uPAOoaDTsi9CLi6fK0O_4bEZu7lTB34=s96-c\", \"email\": \"xz387@nau.edu\", \"email_verified\": true, \"hd\": \"nau.edu\", \"token\": \"eyJ1c2VyIjogeyJzdWIi\"}\u001b[0m\n",
      "\n"
     ]
    }
   ],
   "source": [
    "response = test_endpoint(\"/my_profile\", \"GET\", headers=AUTHORIZED_HEADER)\n",
    "assert response.status_code == 200"
   ]
  },
  {
   "cell_type": "markdown",
   "metadata": {},
   "source": [
    "### Wrong token to test if the JWT can deny the unauthorized user\n",
    "> What to test?\n",
    "* Session management, has session, but the wrong token\n",
    "* Status code/ error message\n"
   ]
  },
  {
   "cell_type": "code",
   "execution_count": 23,
   "metadata": {},
   "outputs": [
    {
     "name": "stdout",
     "output_type": "stream",
     "text": [
      "\u001b[95m================ REQUEST ================\u001b[0m\n",
      "\u001b[95m[GET] '/my_profile'\u001b[0m\n",
      "\u001b[95mHost: localhost:8000\u001b[0m\n",
      "\u001b[95mConnection: keep-alive\u001b[0m\n",
      "\u001b[95msec-ch-ua: \"Not;A=Brand\";v=\"24\", \"Chromium\";v=\"128\"\u001b[0m\n",
      "\u001b[95msec-ch-ua-mobile: ?0\u001b[0m\n",
      "\u001b[95msec-ch-ua-platform: \"macOS\"\u001b[0m\n",
      "\u001b[95mUpgrade-Insecure-Requests: 1\u001b[0m\n",
      "\u001b[95mDNT: 1\u001b[0m\n",
      "\u001b[95mUser-Agent: Mozilla/5.0 (Macintosh; Intel Mac OS X 10_15_7) AppleWebKit/537.36 (KHTML, like Gecko) Chrome/128.0.0.0 Safari/537.36\u001b[0m\n",
      "\u001b[95mAccept: text/html,application/xhtml+xml,application/xml;q=0.9,image/avif,image/webp,image/apng,*/*;q=0.8,application/signed-exchange;v=b3;q=0.7\u001b[0m\n",
      "\u001b[95mSec-Fetch-Site: cross-site\u001b[0m\n",
      "\u001b[95mSec-Fetch-Mode: navigate\u001b[0m\n",
      "\u001b[95mSec-Fetch-User: ?1\u001b[0m\n",
      "\u001b[95mSec-Fetch-Dest: document\u001b[0m\n",
      "\u001b[95mAccept-Encoding: gzip, deflate, br, zstd\u001b[0m\n",
      "\u001b[95mAccept-Language: en-US,en;q=0.9\u001b[0m\n",
      "\u001b[95mCookie: _xsrf=2|e8ec40bb|be67f97ce63626c0817f331d876587e5|1719595733; session=lifeIsLikeaBoxOfChocolates\u001b[0m\n",
      "\u001b[92m================ RESPONSE ================\u001b[0m\n",
      "\u001b[92mSTATUS: 401: Unauthorized (the user is NOT authorized)\u001b[0m\n",
      "\u001b[92m\n",
      "RAW RESPONSE:\u001b[0m\n",
      "\u001b[92mHTTP/HTTP/1.1 401 \n",
      "content-type: application/json\n",
      "date: Thu, 05 Dec 2024 23:00:32 GMT\n",
      "set-cookie: session=\n",
      "\n",
      "{\"error\": \"Unauthorized\"}\u001b[0m\n",
      "\n"
     ]
    }
   ],
   "source": [
    "response = test_endpoint(\"/my_profile\", \"GET\", headers=WRONG_TOKEN_HEADER)\n",
    "assert response.status_code == 401"
   ]
  },
  {
   "cell_type": "markdown",
   "metadata": {},
   "source": [
    "### Path not found\n",
    "> What to test?\n",
    "* Path management\n",
    "* Status code/ error message"
   ]
  },
  {
   "cell_type": "code",
   "execution_count": 24,
   "metadata": {},
   "outputs": [
    {
     "name": "stdout",
     "output_type": "stream",
     "text": [
      "\u001b[95m================ REQUEST ================\u001b[0m\n",
      "\u001b[95m[GET] '/our_profiles'\u001b[0m\n",
      "\u001b[95mHost: localhost:8000\u001b[0m\n",
      "\u001b[95mConnection: keep-alive\u001b[0m\n",
      "\u001b[95msec-ch-ua: \"Not;A=Brand\";v=\"24\", \"Chromium\";v=\"128\"\u001b[0m\n",
      "\u001b[95msec-ch-ua-mobile: ?0\u001b[0m\n",
      "\u001b[95msec-ch-ua-platform: \"macOS\"\u001b[0m\n",
      "\u001b[95mUpgrade-Insecure-Requests: 1\u001b[0m\n",
      "\u001b[95mDNT: 1\u001b[0m\n",
      "\u001b[95mUser-Agent: Mozilla/5.0 (Macintosh; Intel Mac OS X 10_15_7) AppleWebKit/537.36 (KHTML, like Gecko) Chrome/128.0.0.0 Safari/537.36\u001b[0m\n",
      "\u001b[95mAccept: text/html,application/xhtml+xml,application/xml;q=0.9,image/avif,image/webp,image/apng,*/*;q=0.8,application/signed-exchange;v=b3;q=0.7\u001b[0m\n",
      "\u001b[95mSec-Fetch-Site: cross-site\u001b[0m\n",
      "\u001b[95mSec-Fetch-Mode: navigate\u001b[0m\n",
      "\u001b[95mSec-Fetch-User: ?1\u001b[0m\n",
      "\u001b[95mSec-Fetch-Dest: document\u001b[0m\n",
      "\u001b[95mAccept-Encoding: gzip, deflate, br, zstd\u001b[0m\n",
      "\u001b[95mAccept-Language: en-US,en;q=0.9\u001b[0m\n",
      "\u001b[95mCookie: _xsrf=2|e8ec40bb|be67f97ce63626c0817f331d876587e5|1719595733; session=eyJ1c2VyIjogeyJzdWIiOiAiMTEyMjA4MjUzNzk3MTM1ODU1NDY4IiwgIm5hbWUiOiAiWGlhb2NoZW4gWmhhbmciLCAiZ2l2ZW5fbmFtZSI6ICJYaWFvY2hlbiIsICJmYW1pbHlfbmFtZSI6ICJaaGFuZyIsICJwaWN0dXJlIjogImh0dHBzOi8vbGgzLmdvb2dsZXVzZXJjb250ZW50LmNvbS9hL0FDZzhvY0xPa2FaTFlFZlAtY2pjN1JTMnVQQU9vYURUc2k5Q0xpNmZLME9fNGJFWnU3bFRCMzQ9czk2LWMiLCAiZW1haWwiOiAieHozODdAbmF1LmVkdSIsICJlbWFpbF92ZXJpZmllZCI6IHRydWUsICJoZCI6ICJuYXUuZWR1In19.101086856aac8d049f71f21941f0f0bb7b78aa5415bde84cb93f3de339cdb378\u001b[0m\n",
      "\u001b[92m================ RESPONSE ================\u001b[0m\n",
      "\u001b[92mSTATUS: 404: Not Found (the resource was NOT found)\u001b[0m\n",
      "\u001b[92m\n",
      "RAW RESPONSE:\u001b[0m\n",
      "\u001b[92mHTTP/HTTP/1.1 404 Not Found\n",
      "content-type: text/html\n",
      "date: Thu, 05 Dec 2024 23:01:52 GMT\n",
      "\n",
      "404 Not Found\u001b[0m\n",
      "\n"
     ]
    }
   ],
   "source": [
    "response = test_endpoint(\"/our_profiles\", \"GET\", headers=AUTHORIZED_HEADER)\n",
    "assert response.status_code == 404"
   ]
  },
  {
   "cell_type": "markdown",
   "metadata": {},
   "source": [
    "### Without SSL certificate\n",
    "> What to test?\n",
    "* Previous tests passed because before we use SSL certificate\n",
    "* The service will refuse the connection."
   ]
  },
  {
   "cell_type": "code",
   "execution_count": 80,
   "metadata": {},
   "outputs": [
    {
     "name": "stdout",
     "output_type": "stream",
     "text": [
      "Without SSL certificate, the connection is refused.\n"
     ]
    }
   ],
   "source": [
    "from httpx import ConnectError\n",
    "try:\n",
    "    with httpx.Client() as client:\n",
    "        response = client.get(f\"{PROTOCOL}://{HOST}:{PORT}/my_profile\", headers=AUTHORIZED_HEADER)\n",
    "    response.status_code\n",
    "except ConnectError:\n",
    "    print(\"Without SSL certificate, the connection is refused.\")\n"
   ]
  },
  {
   "cell_type": "markdown",
   "metadata": {},
   "source": [
    "### Invalid JSON to post"
   ]
  },
  {
   "cell_type": "code",
   "execution_count": 84,
   "metadata": {},
   "outputs": [
    {
     "name": "stdout",
     "output_type": "stream",
     "text": [
      "{\"error\": \"text_id is required\"}\n"
     ]
    }
   ],
   "source": [
    "with httpx.Client(verify=False) as client:\n",
    "    response = client.post(f\"{PROTOCOL}://{HOST}:{PORT}/sentence_measure/\", headers=AUTHORIZED_HEADER, data=\"- not a json\")\n",
    "\n",
    "print(response.text)\n",
    "assert response.status_code == 400\n"
   ]
  },
  {
   "cell_type": "markdown",
   "metadata": {},
   "source": [
    "## Concurrency\n",
    "> What to test?\n",
    "* Server can handle concurrent requests\n",
    "\n",
    "But to be honest, the performance test here isn't very meaningful.\n",
    "\n",
    "As the threading on client and thread pool on server are both on my laptop. Meaning if I start 10 workers' server, the client will have less resources to work on. Not to talk about the database is an on docker postgres also on my laptop.\n",
    "\n",
    "But here is some running and visualization anyway.\n",
    "\n",
    "Run the following command in the terminal:\n",
    "```bash\n",
    "python app.py --log_level=INFO --n_workers=2\n",
    "```\n"
   ]
  },
  {
   "cell_type": "code",
   "execution_count": 46,
   "metadata": {},
   "outputs": [],
   "source": [
    "\n",
    "def in_concurrent_requesting(\n",
    "    start_time: datetime,  # pass in from concurrent_requesting\n",
    "    method: str,\n",
    "    path: str,\n",
    "    headers: Optional[dict] = None,\n",
    "    json: Optional[dict] = None,\n",
    "):\n",
    "    \"\"\"\n",
    "    A single thread of concurrent requesting\n",
    "    the very thing we want to duplicate effort on\n",
    "    \"\"\"\n",
    "    thread_start = (datetime.now() - start_time).total_seconds()\n",
    "    response = client_core(method, path, headers, json)\n",
    "    thread_end = (datetime.now() - start_time).total_seconds()\n",
    "    return {\n",
    "        \"status_code\": response.status_code,\n",
    "        \"start\": thread_start,\n",
    "        \"end\": thread_end,\n",
    "        \"round_trip_time\": thread_end - thread_start,\n",
    "    }\n",
    "\n",
    "\n",
    "def concurrent_requesting(\n",
    "    n_requests: int,\n",
    "    n_threads: int,\n",
    "    method: str,\n",
    "    path: str,\n",
    "    headers: Optional[dict] = None,\n",
    "    json: Optional[dict] = None,\n",
    "):\n",
    "    start_time = datetime.now()\n",
    "    with concurrent.futures.ThreadPoolExecutor(max_workers=n_threads) as executor:\n",
    "        futures = [\n",
    "            executor.submit(\n",
    "                in_concurrent_requesting,\n",
    "                start_time,\n",
    "                method,\n",
    "                path,\n",
    "                headers,\n",
    "                json,\n",
    "            )\n",
    "            for _ in range(n_requests)\n",
    "        ]\n",
    "        df = pd.DataFrame(list(f.result() for f in concurrent.futures.as_completed(futures)))\n",
    "    return df\n",
    "\n"
   ]
  },
  {
   "cell_type": "code",
   "execution_count": 47,
   "metadata": {},
   "outputs": [
    {
     "data": {
      "text/html": [
       "<div>\n",
       "<style scoped>\n",
       "    .dataframe tbody tr th:only-of-type {\n",
       "        vertical-align: middle;\n",
       "    }\n",
       "\n",
       "    .dataframe tbody tr th {\n",
       "        vertical-align: top;\n",
       "    }\n",
       "\n",
       "    .dataframe thead th {\n",
       "        text-align: right;\n",
       "    }\n",
       "</style>\n",
       "<table border=\"1\" class=\"dataframe\">\n",
       "  <thead>\n",
       "    <tr style=\"text-align: right;\">\n",
       "      <th></th>\n",
       "      <th>status_code</th>\n",
       "      <th>start</th>\n",
       "      <th>end</th>\n",
       "      <th>round_trip_time</th>\n",
       "    </tr>\n",
       "  </thead>\n",
       "  <tbody>\n",
       "    <tr>\n",
       "      <th>0</th>\n",
       "      <td>200</td>\n",
       "      <td>0.002146</td>\n",
       "      <td>0.043950</td>\n",
       "      <td>0.041804</td>\n",
       "    </tr>\n",
       "    <tr>\n",
       "      <th>1</th>\n",
       "      <td>200</td>\n",
       "      <td>0.000612</td>\n",
       "      <td>0.044779</td>\n",
       "      <td>0.044167</td>\n",
       "    </tr>\n",
       "    <tr>\n",
       "      <th>2</th>\n",
       "      <td>200</td>\n",
       "      <td>0.004874</td>\n",
       "      <td>0.051171</td>\n",
       "      <td>0.046297</td>\n",
       "    </tr>\n",
       "    <tr>\n",
       "      <th>3</th>\n",
       "      <td>200</td>\n",
       "      <td>0.004225</td>\n",
       "      <td>0.056942</td>\n",
       "      <td>0.052717</td>\n",
       "    </tr>\n",
       "    <tr>\n",
       "      <th>4</th>\n",
       "      <td>200</td>\n",
       "      <td>0.005671</td>\n",
       "      <td>0.066218</td>\n",
       "      <td>0.060547</td>\n",
       "    </tr>\n",
       "    <tr>\n",
       "      <th>5</th>\n",
       "      <td>200</td>\n",
       "      <td>0.007387</td>\n",
       "      <td>0.071156</td>\n",
       "      <td>0.063769</td>\n",
       "    </tr>\n",
       "    <tr>\n",
       "      <th>6</th>\n",
       "      <td>200</td>\n",
       "      <td>0.009547</td>\n",
       "      <td>0.078371</td>\n",
       "      <td>0.068824</td>\n",
       "    </tr>\n",
       "    <tr>\n",
       "      <th>7</th>\n",
       "      <td>200</td>\n",
       "      <td>0.008824</td>\n",
       "      <td>0.119517</td>\n",
       "      <td>0.110693</td>\n",
       "    </tr>\n",
       "    <tr>\n",
       "      <th>8</th>\n",
       "      <td>200</td>\n",
       "      <td>0.008981</td>\n",
       "      <td>0.121216</td>\n",
       "      <td>0.112235</td>\n",
       "    </tr>\n",
       "    <tr>\n",
       "      <th>9</th>\n",
       "      <td>200</td>\n",
       "      <td>0.007883</td>\n",
       "      <td>0.125158</td>\n",
       "      <td>0.117275</td>\n",
       "    </tr>\n",
       "  </tbody>\n",
       "</table>\n",
       "</div>"
      ],
      "text/plain": [
       "   status_code     start       end  round_trip_time\n",
       "0          200  0.002146  0.043950         0.041804\n",
       "1          200  0.000612  0.044779         0.044167\n",
       "2          200  0.004874  0.051171         0.046297\n",
       "3          200  0.004225  0.056942         0.052717\n",
       "4          200  0.005671  0.066218         0.060547\n",
       "5          200  0.007387  0.071156         0.063769\n",
       "6          200  0.009547  0.078371         0.068824\n",
       "7          200  0.008824  0.119517         0.110693\n",
       "8          200  0.008981  0.121216         0.112235\n",
       "9          200  0.007883  0.125158         0.117275"
      ]
     },
     "execution_count": 47,
     "metadata": {},
     "output_type": "execute_result"
    }
   ],
   "source": [
    "perf_df = concurrent_requesting(\n",
    "    10, 10, \"GET\", \"/naked\",\n",
    ")\n",
    "perf_df"
   ]
  },
  {
   "cell_type": "code",
   "execution_count": 71,
   "metadata": {},
   "outputs": [
    {
     "data": {
      "image/png": "[encoded data removed]",
      "text/plain": [
       "<Figure size 1000x600 with 1 Axes>"
      ]
     },
     "metadata": {},
     "output_type": "display_data"
    }
   ],
   "source": [
    "plt.figure(figsize=(10, 6))\n",
    "plt.plot(perf_df['round_trip_time'], 'bo-')\n",
    "plt.xlabel('Request Index')\n",
    "plt.ylabel('Round Trip Time (seconds)') \n",
    "plt.title('Round Trip Time for Concurrent Requests')\n",
    "plt.grid(True)\n",
    "plt.show()\n"
   ]
  },
  {
   "cell_type": "code",
   "execution_count": 51,
   "metadata": {},
   "outputs": [
    {
     "data": {
      "image/png": "[encoded data removed]",
      "text/plain": [
       "<Figure size 1000x600 with 1 Axes>"
      ]
     },
     "metadata": {},
     "output_type": "display_data"
    }
   ],
   "source": [
    "perf_df = concurrent_requesting(\n",
    "    10, 10, \"GET\", \"/naked\",\n",
    ")\n",
    "\n",
    "plt.figure(figsize=(10, 6))\n",
    "plt.plot(perf_df['round_trip_time'], 'bo-')\n",
    "plt.xlabel('Request Index')\n",
    "plt.ylabel('Round Trip Time (seconds)') \n",
    "plt.title('Round Trip Time for Concurrent Requests')\n",
    "plt.grid(True)\n",
    "plt.show()"
   ]
  },
  {
   "cell_type": "markdown",
   "metadata": {},
   "source": [
    "### Heavy request"
   ]
  },
  {
   "cell_type": "markdown",
   "metadata": {},
   "source": [
    "#### Workers = 1"
   ]
  },
  {
   "cell_type": "code",
   "execution_count": 62,
   "metadata": {},
   "outputs": [
    {
     "data": {
      "text/html": [
       "<div>\n",
       "<style scoped>\n",
       "    .dataframe tbody tr th:only-of-type {\n",
       "        vertical-align: middle;\n",
       "    }\n",
       "\n",
       "    .dataframe tbody tr th {\n",
       "        vertical-align: top;\n",
       "    }\n",
       "\n",
       "    .dataframe thead th {\n",
       "        text-align: right;\n",
       "    }\n",
       "</style>\n",
       "<table border=\"1\" class=\"dataframe\">\n",
       "  <thead>\n",
       "    <tr style=\"text-align: right;\">\n",
       "      <th></th>\n",
       "      <th>status_code</th>\n",
       "      <th>start</th>\n",
       "      <th>end</th>\n",
       "      <th>round_trip_time</th>\n",
       "    </tr>\n",
       "  </thead>\n",
       "  <tbody>\n",
       "    <tr>\n",
       "      <th>0</th>\n",
       "      <td>200</td>\n",
       "      <td>0.000830</td>\n",
       "      <td>0.035692</td>\n",
       "      <td>0.034862</td>\n",
       "    </tr>\n",
       "    <tr>\n",
       "      <th>1</th>\n",
       "      <td>200</td>\n",
       "      <td>0.000288</td>\n",
       "      <td>0.064576</td>\n",
       "      <td>0.064288</td>\n",
       "    </tr>\n",
       "    <tr>\n",
       "      <th>2</th>\n",
       "      <td>200</td>\n",
       "      <td>0.003210</td>\n",
       "      <td>0.091151</td>\n",
       "      <td>0.087941</td>\n",
       "    </tr>\n",
       "    <tr>\n",
       "      <th>3</th>\n",
       "      <td>200</td>\n",
       "      <td>0.001190</td>\n",
       "      <td>0.119795</td>\n",
       "      <td>0.118605</td>\n",
       "    </tr>\n",
       "    <tr>\n",
       "      <th>4</th>\n",
       "      <td>200</td>\n",
       "      <td>0.003976</td>\n",
       "      <td>0.154123</td>\n",
       "      <td>0.150147</td>\n",
       "    </tr>\n",
       "    <tr>\n",
       "      <th>5</th>\n",
       "      <td>200</td>\n",
       "      <td>0.004515</td>\n",
       "      <td>0.190707</td>\n",
       "      <td>0.186192</td>\n",
       "    </tr>\n",
       "    <tr>\n",
       "      <th>6</th>\n",
       "      <td>200</td>\n",
       "      <td>0.007697</td>\n",
       "      <td>0.222180</td>\n",
       "      <td>0.214483</td>\n",
       "    </tr>\n",
       "    <tr>\n",
       "      <th>7</th>\n",
       "      <td>200</td>\n",
       "      <td>0.004976</td>\n",
       "      <td>0.259850</td>\n",
       "      <td>0.254874</td>\n",
       "    </tr>\n",
       "    <tr>\n",
       "      <th>8</th>\n",
       "      <td>200</td>\n",
       "      <td>0.005711</td>\n",
       "      <td>0.285466</td>\n",
       "      <td>0.279755</td>\n",
       "    </tr>\n",
       "    <tr>\n",
       "      <th>9</th>\n",
       "      <td>200</td>\n",
       "      <td>0.008449</td>\n",
       "      <td>0.314278</td>\n",
       "      <td>0.305829</td>\n",
       "    </tr>\n",
       "  </tbody>\n",
       "</table>\n",
       "</div>"
      ],
      "text/plain": [
       "   status_code     start       end  round_trip_time\n",
       "0          200  0.000830  0.035692         0.034862\n",
       "1          200  0.000288  0.064576         0.064288\n",
       "2          200  0.003210  0.091151         0.087941\n",
       "3          200  0.001190  0.119795         0.118605\n",
       "4          200  0.003976  0.154123         0.150147\n",
       "5          200  0.004515  0.190707         0.186192\n",
       "6          200  0.007697  0.222180         0.214483\n",
       "7          200  0.004976  0.259850         0.254874\n",
       "8          200  0.005711  0.285466         0.279755\n",
       "9          200  0.008449  0.314278         0.305829"
      ]
     },
     "execution_count": 62,
     "metadata": {},
     "output_type": "execute_result"
    }
   ],
   "source": [
    "perf_df = concurrent_requesting(\n",
    "    10,\n",
    "    10,\n",
    "    \"POST\",\n",
    "    \"/sentence_measure/\",\n",
    "    headers=AUTHORIZED_HEADER,\n",
    "    json={\"text_id\": \"readly_2775ecb6\"},\n",
    ")\n",
    "perf_df"
   ]
  },
  {
   "cell_type": "markdown",
   "metadata": {},
   "source": [
    "We can see the performance is very linear. 1 request has to finish for another to start."
   ]
  },
  {
   "cell_type": "code",
   "execution_count": 63,
   "metadata": {},
   "outputs": [
    {
     "data": {
      "image/png": "[encoded data removed]",
      "text/plain": [
       "<Figure size 1000x600 with 1 Axes>"
      ]
     },
     "metadata": {},
     "output_type": "display_data"
    }
   ],
   "source": [
    "plt.figure(figsize=(10, 6))\n",
    "plt.plot(perf_df['round_trip_time'], 'bo-')\n",
    "plt.xlabel('Request Index')\n",
    "plt.ylabel('Round Trip Time (seconds)') \n",
    "plt.title('Round Trip Time for Concurrent Requests')\n",
    "plt.grid(True)\n",
    "plt.show()\n"
   ]
  },
  {
   "cell_type": "code",
   "execution_count": 54,
   "metadata": {},
   "outputs": [
    {
     "data": {
      "text/html": [
       "<div>\n",
       "<style scoped>\n",
       "    .dataframe tbody tr th:only-of-type {\n",
       "        vertical-align: middle;\n",
       "    }\n",
       "\n",
       "    .dataframe tbody tr th {\n",
       "        vertical-align: top;\n",
       "    }\n",
       "\n",
       "    .dataframe thead th {\n",
       "        text-align: right;\n",
       "    }\n",
       "</style>\n",
       "<table border=\"1\" class=\"dataframe\">\n",
       "  <thead>\n",
       "    <tr style=\"text-align: right;\">\n",
       "      <th></th>\n",
       "      <th>status_code</th>\n",
       "      <th>start</th>\n",
       "      <th>end</th>\n",
       "      <th>round_trip_time</th>\n",
       "    </tr>\n",
       "  </thead>\n",
       "  <tbody>\n",
       "    <tr>\n",
       "      <th>0</th>\n",
       "      <td>200</td>\n",
       "      <td>0.002657</td>\n",
       "      <td>0.255746</td>\n",
       "      <td>0.253089</td>\n",
       "    </tr>\n",
       "    <tr>\n",
       "      <th>1</th>\n",
       "      <td>200</td>\n",
       "      <td>0.000913</td>\n",
       "      <td>0.257516</td>\n",
       "      <td>0.256603</td>\n",
       "    </tr>\n",
       "    <tr>\n",
       "      <th>2</th>\n",
       "      <td>200</td>\n",
       "      <td>0.003482</td>\n",
       "      <td>0.292921</td>\n",
       "      <td>0.289439</td>\n",
       "    </tr>\n",
       "    <tr>\n",
       "      <th>3</th>\n",
       "      <td>200</td>\n",
       "      <td>0.007155</td>\n",
       "      <td>0.308121</td>\n",
       "      <td>0.300966</td>\n",
       "    </tr>\n",
       "    <tr>\n",
       "      <th>4</th>\n",
       "      <td>200</td>\n",
       "      <td>0.008934</td>\n",
       "      <td>0.405985</td>\n",
       "      <td>0.397051</td>\n",
       "    </tr>\n",
       "    <tr>\n",
       "      <th>5</th>\n",
       "      <td>200</td>\n",
       "      <td>0.005900</td>\n",
       "      <td>0.414676</td>\n",
       "      <td>0.408776</td>\n",
       "    </tr>\n",
       "    <tr>\n",
       "      <th>6</th>\n",
       "      <td>200</td>\n",
       "      <td>0.008111</td>\n",
       "      <td>0.434634</td>\n",
       "      <td>0.426523</td>\n",
       "    </tr>\n",
       "    <tr>\n",
       "      <th>7</th>\n",
       "      <td>200</td>\n",
       "      <td>0.012845</td>\n",
       "      <td>0.444334</td>\n",
       "      <td>0.431489</td>\n",
       "    </tr>\n",
       "    <tr>\n",
       "      <th>8</th>\n",
       "      <td>200</td>\n",
       "      <td>0.011687</td>\n",
       "      <td>0.464757</td>\n",
       "      <td>0.453070</td>\n",
       "    </tr>\n",
       "    <tr>\n",
       "      <th>9</th>\n",
       "      <td>200</td>\n",
       "      <td>0.012244</td>\n",
       "      <td>0.479090</td>\n",
       "      <td>0.466846</td>\n",
       "    </tr>\n",
       "  </tbody>\n",
       "</table>\n",
       "</div>"
      ],
      "text/plain": [
       "   status_code     start       end  round_trip_time\n",
       "0          200  0.002657  0.255746         0.253089\n",
       "1          200  0.000913  0.257516         0.256603\n",
       "2          200  0.003482  0.292921         0.289439\n",
       "3          200  0.007155  0.308121         0.300966\n",
       "4          200  0.008934  0.405985         0.397051\n",
       "5          200  0.005900  0.414676         0.408776\n",
       "6          200  0.008111  0.434634         0.426523\n",
       "7          200  0.012845  0.444334         0.431489\n",
       "8          200  0.011687  0.464757         0.453070\n",
       "9          200  0.012244  0.479090         0.466846"
      ]
     },
     "execution_count": 54,
     "metadata": {},
     "output_type": "execute_result"
    }
   ],
   "source": [
    "perf_df = concurrent_requesting(\n",
    "    10,\n",
    "    10,\n",
    "    \"POST\",\n",
    "    \"/sentence_measure/\",\n",
    "    headers=AUTHORIZED_HEADER,\n",
    "    json={\"text_id\": \"readly_2775ecb6\"},\n",
    ")\n",
    "perf_df\n"
   ]
  },
  {
   "cell_type": "code",
   "execution_count": 55,
   "metadata": {},
   "outputs": [
    {
     "data": {
      "image/png": "[encoded data removed]",
      "text/plain": [
       "<Figure size 1000x600 with 1 Axes>"
      ]
     },
     "metadata": {},
     "output_type": "display_data"
    }
   ],
   "source": [
    "plt.figure(figsize=(10, 6))\n",
    "plt.plot(perf_df['round_trip_time'], 'bo-')\n",
    "plt.xlabel('Request Index')\n",
    "plt.ylabel('Round Trip Time (seconds)') \n",
    "plt.title('Round Trip Time for Concurrent Requests')\n",
    "plt.grid(True)\n",
    "plt.show()\n"
   ]
  },
  {
   "cell_type": "markdown",
   "metadata": {},
   "source": [
    "### Double the number of workers\n",
    "Let's try n_workers=4"
   ]
  },
  {
   "cell_type": "code",
   "execution_count": 52,
   "metadata": {},
   "outputs": [
    {
     "data": {
      "text/html": [
       "<div>\n",
       "<style scoped>\n",
       "    .dataframe tbody tr th:only-of-type {\n",
       "        vertical-align: middle;\n",
       "    }\n",
       "\n",
       "    .dataframe tbody tr th {\n",
       "        vertical-align: top;\n",
       "    }\n",
       "\n",
       "    .dataframe thead th {\n",
       "        text-align: right;\n",
       "    }\n",
       "</style>\n",
       "<table border=\"1\" class=\"dataframe\">\n",
       "  <thead>\n",
       "    <tr style=\"text-align: right;\">\n",
       "      <th></th>\n",
       "      <th>status_code</th>\n",
       "      <th>start</th>\n",
       "      <th>end</th>\n",
       "      <th>round_trip_time</th>\n",
       "    </tr>\n",
       "  </thead>\n",
       "  <tbody>\n",
       "    <tr>\n",
       "      <th>0</th>\n",
       "      <td>200</td>\n",
       "      <td>0.004625</td>\n",
       "      <td>0.368440</td>\n",
       "      <td>0.363815</td>\n",
       "    </tr>\n",
       "    <tr>\n",
       "      <th>1</th>\n",
       "      <td>200</td>\n",
       "      <td>0.000863</td>\n",
       "      <td>0.368568</td>\n",
       "      <td>0.367705</td>\n",
       "    </tr>\n",
       "    <tr>\n",
       "      <th>2</th>\n",
       "      <td>200</td>\n",
       "      <td>0.013332</td>\n",
       "      <td>0.369441</td>\n",
       "      <td>0.356109</td>\n",
       "    </tr>\n",
       "    <tr>\n",
       "      <th>3</th>\n",
       "      <td>200</td>\n",
       "      <td>0.007537</td>\n",
       "      <td>0.369733</td>\n",
       "      <td>0.362196</td>\n",
       "    </tr>\n",
       "    <tr>\n",
       "      <th>4</th>\n",
       "      <td>200</td>\n",
       "      <td>0.014464</td>\n",
       "      <td>0.417678</td>\n",
       "      <td>0.403214</td>\n",
       "    </tr>\n",
       "    <tr>\n",
       "      <th>5</th>\n",
       "      <td>200</td>\n",
       "      <td>0.023967</td>\n",
       "      <td>0.427653</td>\n",
       "      <td>0.403686</td>\n",
       "    </tr>\n",
       "    <tr>\n",
       "      <th>6</th>\n",
       "      <td>200</td>\n",
       "      <td>0.035184</td>\n",
       "      <td>0.434944</td>\n",
       "      <td>0.399760</td>\n",
       "    </tr>\n",
       "    <tr>\n",
       "      <th>7</th>\n",
       "      <td>200</td>\n",
       "      <td>0.029293</td>\n",
       "      <td>0.442539</td>\n",
       "      <td>0.413246</td>\n",
       "    </tr>\n",
       "    <tr>\n",
       "      <th>8</th>\n",
       "      <td>200</td>\n",
       "      <td>0.032119</td>\n",
       "      <td>0.455162</td>\n",
       "      <td>0.423043</td>\n",
       "    </tr>\n",
       "    <tr>\n",
       "      <th>9</th>\n",
       "      <td>200</td>\n",
       "      <td>0.045052</td>\n",
       "      <td>0.480227</td>\n",
       "      <td>0.435175</td>\n",
       "    </tr>\n",
       "  </tbody>\n",
       "</table>\n",
       "</div>"
      ],
      "text/plain": [
       "   status_code     start       end  round_trip_time\n",
       "0          200  0.004625  0.368440         0.363815\n",
       "1          200  0.000863  0.368568         0.367705\n",
       "2          200  0.013332  0.369441         0.356109\n",
       "3          200  0.007537  0.369733         0.362196\n",
       "4          200  0.014464  0.417678         0.403214\n",
       "5          200  0.023967  0.427653         0.403686\n",
       "6          200  0.035184  0.434944         0.399760\n",
       "7          200  0.029293  0.442539         0.413246\n",
       "8          200  0.032119  0.455162         0.423043\n",
       "9          200  0.045052  0.480227         0.435175"
      ]
     },
     "execution_count": 52,
     "metadata": {},
     "output_type": "execute_result"
    }
   ],
   "source": [
    "perf_df = concurrent_requesting(\n",
    "    10,\n",
    "    10,\n",
    "    \"POST\",\n",
    "    \"/sentence_measure/\",\n",
    "    headers=AUTHORIZED_HEADER,\n",
    "    json={\"text_id\": \"readly_2775ecb6\"},\n",
    ")\n",
    "perf_df\n"
   ]
  },
  {
   "cell_type": "code",
   "execution_count": 53,
   "metadata": {},
   "outputs": [
    {
     "data": {
      "image/png": "[encoded data removed]",
      "text/plain": [
       "<Figure size 1000x600 with 1 Axes>"
      ]
     },
     "metadata": {},
     "output_type": "display_data"
    }
   ],
   "source": [
    "plt.figure(figsize=(10, 6))\n",
    "plt.plot(perf_df['round_trip_time'], 'bo-')\n",
    "plt.xlabel('Request Index')\n",
    "plt.ylabel('Round Trip Time (seconds)') \n",
    "plt.title('Round Trip Time for Concurrent Requests')\n",
    "plt.grid(True)\n",
    "plt.show()"
   ]
  },
  {
   "cell_type": "code",
   "execution_count": null,
   "metadata": {},
   "outputs": [],
   "source": []
  }
 ],
 "metadata": {
  "kernelspec": {
   "display_name": "venv",
   "language": "python",
   "name": "python3"
  },
  "language_info": {
   "codemirror_mode": {
    "name": "ipython",
    "version": 3
   },
   "file_extension": ".py",
   "mimetype": "text/x-python",
   "name": "python",
   "nbconvert_exporter": "python",
   "pygments_lexer": "ipython3",
   "version": "3.12.7"
  }
 },
 "nbformat": 4,
 "nbformat_minor": 2
}
